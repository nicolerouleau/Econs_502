{
 "cells": [
  {
   "cell_type": "markdown",
   "metadata": {},
   "source": [
    "# ECONS 502 Midterm 2\n",
    "## Nicole Rouleau\n",
    "### 04/27/2021"
   ]
  },
  {
   "cell_type": "code",
   "execution_count": 1,
   "metadata": {},
   "outputs": [],
   "source": [
    "import numpy as np\n",
    "import matplotlib.pyplot as plt\n",
    "import math\n",
    "import pandas as pd\n",
    "\n",
    "%matplotlib inline"
   ]
  },
  {
   "cell_type": "code",
   "execution_count": 2,
   "metadata": {},
   "outputs": [
    {
     "name": "stdout",
     "output_type": "stream",
     "text": [
      "       A796RX0Q048SBEA       GPDIC1\n",
      "count        40.000000    40.000000\n",
      "mean       8373.075000  2916.840825\n",
      "std         422.142301   401.126334\n",
      "min        7906.000000  2087.171000\n",
      "25%        7984.250000  2633.597500\n",
      "50%        8303.500000  3034.442000\n",
      "75%        8704.000000  3163.709250\n",
      "max        9199.000000  3481.311000\n"
     ]
    }
   ],
   "source": [
    "#import data\n",
    "#import real non-durable consumption from fred 01/01/2010 to 10/01/2019 (quarterly)\n",
    "#import real gross private domestic investment from fred 01/01/2010 to 10/01/2019 (quarterly)\n",
    "\n",
    "\n",
    "dat = pd.read_csv(r\"/Users/Nicole/502/consumption.csv\")\n",
    "consump = dat.iloc[252:292] ##PCNDCA - consumption (ct), ct-1 is just one period back (one year)\n",
    "consump1 = dat.iloc[251:291]\n",
    "\n",
    "dat1 = pd.read_csv(r\"/Users/Nicole/502/investment.csv\")\n",
    "invest = dat1.iloc[252:292] ##GDPIC1 - investment (kt+1) so (kt) is one period back (one year)\n",
    "invest1 = dat1.iloc[251:291]\n",
    "\n",
    "dat2 = pd.concat([consump, invest], axis=1)\n",
    "print(dat2.describe()) #descriptive stats of data\n",
    "\n",
    "#drop date to use data later\n",
    "consump_d = consump.copy (deep = True)\n",
    "consump_d.drop(['DATE'], axis = 1, inplace = True)\n",
    "consump1_d = consump1.copy (deep = True)\n",
    "consump1_d.drop(['DATE'], axis = 1, inplace = True)\n",
    "invest_d = invest.copy (deep = True)\n",
    "invest_d.drop(['DATE'], axis = 1, inplace = True)\n",
    "invest1_d = invest1.copy (deep = True)\n",
    "invest1_d.drop(['DATE'], axis = 1, inplace = True)\n"
   ]
  },
  {
   "cell_type": "code",
   "execution_count": 3,
   "metadata": {
    "scrolled": true
   },
   "outputs": [
    {
     "data": {
      "text/plain": [
       "array([[ 9.03155523],\n",
       "       [ 7.96844371],\n",
       "       [81.57141481],\n",
       "       [63.51637129],\n",
       "       [81.52863631],\n",
       "       [63.44793563]])"
      ]
     },
     "execution_count": 3,
     "metadata": {},
     "output_type": "execute_result"
    }
   ],
   "source": [
    "#initialize left-hand side of matrix\n",
    "\n",
    "c_d = (np.log(consump_d))\n",
    "i_d = (np.log(invest_d))\n",
    "c2_d = (c_d)**2\n",
    "i2_d = (i_d)**2\n",
    "cc_d = (c_d) * (np.log(consump1_d))\n",
    "ii_d = (i_d) * (np.log(invest1_d))\n",
    "\n",
    "c_m = np.mean(c_d)\n",
    "i_m = np.mean(i_d)\n",
    "c2_m = np.mean(c2_d)\n",
    "i2_m = np.mean(i2_d)\n",
    "cc_m = np.mean(cc_d)\n",
    "ii_m = np.mean(ii_d)\n",
    "\n",
    "df = np.array([c_m, i_m, c2_m, i2_m, cc_m, ii_m])\n",
    "df"
   ]
  },
  {
   "cell_type": "code",
   "execution_count": 15,
   "metadata": {},
   "outputs": [
    {
     "name": "stdout",
     "output_type": "stream",
     "text": [
      "[-0.982853    0.98781716  0.75134048 -0.01004688]\n"
     ]
    }
   ],
   "source": [
    "##solve (only using 4 equations and 2 equations in matrix are redundant)\n",
    "\n",
    "from scipy.optimize import fsolve\n",
    "\n",
    "def myFunction(z):\n",
    "    a = z[0]\n",
    "    b = z[1]\n",
    "    p = z[2]\n",
    "    s = z[3]\n",
    "\n",
    "    F = np.empty((4))\n",
    "    F[0] = (s**2 * (1 + (a * p))) / ((1 - p**2) * (1 - a**2) * (1 - (a * p))) + (c_m)**2 - c2_m\n",
    "    F[1] = (s**2 * (1 + (a * p))) / ((1 - p**2) * (1 - a**2) * (1 - (a * p))) + (i_m)**2 - i2_m\n",
    "    F[2] = (s**2 * (a + p)) / ((1 - p**2) * (1 - a**2) * (1 - (a * p))) + (c_m)**2 - cc_m\n",
    "    F[3] = (s**2 * (a + p)) / ((1 - p**2) * (1 - a**2) * (1 - (a * p))) + (i_m)**2 - ii_m\n",
    "    return F\n",
    "\n",
    "zGuess = np.array([.4,.987,.95,.007]) #guesses based on real business model\n",
    "z = fsolve(myFunction,zGuess)\n",
    "print(z)"
   ]
  },
  {
   "cell_type": "raw",
   "metadata": {},
   "source": [
    "#attempted use of GEKKO, a no-go, came out as non solvable due \n",
    "#to the parameters having more than one value I believe\n",
    "#this section is for personal use and can be ignored for equation solving \n",
    "\n",
    "\n",
    "\n",
    "\n",
    "##using only the bottom 4 equations from the matrix, top 2 are redundant        \n",
    "###put in numbers from array by hand bc gekko did not like it wuth variables\n",
    "\n",
    "from gekko import GEKKO\n",
    "\n",
    "m = GEKKO()\n",
    "a = m.Var(value=.39)\n",
    "b = m.Var(value=.95)\n",
    "p = m.Var(value = .2)\n",
    "s = m.Var(value = .2)\n",
    "\n",
    "m.Equation((s**2 * (1 + (a * p))) / ((1 - p**2) * (1 - a**2) * (1 - (a * p))) + (9.03155523)**2 == 81.57141481)\n",
    "m.Equation((s**2 * (1 + (a * p))) / ((1 - p**2) * (1 - a**2) * (1 - (a * p))) + (7.96844371)**2 == 63.51637129)\n",
    "m.Equation((s**2 * (a + p)) / ((1 - p**2) * (1 - a**2) * (1 - (a * p))) + (9.03155523)**2 == 81.52863631)\n",
    "m.Equation((s**2 * (a + p)) / ((1 - p**2) * (1 - a**2) * (1 - (a * p))) + (7.96844371)**2 == 63.44793563)\n",
    "\n",
    "m.solve(disp=True)\n",
    "print(a.value,b.value,p.value,s.value)"
   ]
  }
 ],
 "metadata": {
  "kernelspec": {
   "display_name": "Python 3",
   "language": "python",
   "name": "python3"
  },
  "language_info": {
   "codemirror_mode": {
    "name": "ipython",
    "version": 3
   },
   "file_extension": ".py",
   "mimetype": "text/x-python",
   "name": "python",
   "nbconvert_exporter": "python",
   "pygments_lexer": "ipython3",
   "version": "3.7.4"
  }
 },
 "nbformat": 4,
 "nbformat_minor": 2
}
