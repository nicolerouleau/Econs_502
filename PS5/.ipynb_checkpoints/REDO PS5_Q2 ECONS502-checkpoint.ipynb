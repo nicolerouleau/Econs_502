{
 "cells": [
  {
   "cell_type": "markdown",
   "metadata": {},
   "source": [
    "# ECONS 502\n",
    "## PS 5\n",
    "### Question 2 - REDO\n",
    "#### Nicole Rouleau"
   ]
  },
  {
   "cell_type": "code",
   "execution_count": 4,
   "metadata": {},
   "outputs": [],
   "source": [
    "import numpy as np\n",
    "\n",
    "%matplotlib inline"
   ]
  },
  {
   "cell_type": "code",
   "execution_count": 14,
   "metadata": {},
   "outputs": [
    {
     "name": "stdout",
     "output_type": "stream",
     "text": [
      "pi: -0.08233841086867022 yt: 0.9880609304240429 a: -0.08233841086867022 b: 0.9880609304240429\n"
     ]
    }
   ],
   "source": [
    "#define paramters\n",
    "bb = .95 #beta\n",
    "kk = 1 #kappa\n",
    "gg = 2 #gamma\n",
    "ph = 1.5 #phi\n",
    "rh = .9 #rho\n",
    "sig = 1.5 #sigma\n",
    "\n",
    "#define variable equations\n",
    "a = ((1 - rh) * kk) / (rh + (bb * rh) - (bb * rh**2) - (kk * gg * ph) + (kk * gg * rh) - 1)\n",
    "b = ((rh - ph) * gg * kk) / (rh + (bb * rh) - (bb * rh**2) - (kk * gg * ph) + (kk * gg * rh) - 1)\n",
    "\n",
    "#solve after setting ybar =1 \n",
    "ybar = 1\n",
    "\n",
    "pii = ybar * a\n",
    "yt = ybar * b\n",
    "\n",
    "\n",
    "print(\"pi:\", pii, \"yt:\", yt, \"a:\", a , \"b:\", b)\n",
    "\n"
   ]
  }
 ],
 "metadata": {
  "kernelspec": {
   "display_name": "Python 3",
   "language": "python",
   "name": "python3"
  },
  "language_info": {
   "codemirror_mode": {
    "name": "ipython",
    "version": 3
   },
   "file_extension": ".py",
   "mimetype": "text/x-python",
   "name": "python",
   "nbconvert_exporter": "python",
   "pygments_lexer": "ipython3",
   "version": "3.7.4"
  }
 },
 "nbformat": 4,
 "nbformat_minor": 2
}
