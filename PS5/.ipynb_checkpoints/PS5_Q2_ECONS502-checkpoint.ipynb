{
 "cells": [
  {
   "cell_type": "markdown",
   "metadata": {},
   "source": [
    "# ECONS 502\n",
    "## PS 5\n",
    "### Question 2"
   ]
  },
  {
   "cell_type": "code",
   "execution_count": 1,
   "metadata": {},
   "outputs": [],
   "source": [
    "#set up necessary modules\n",
    "\n",
    "import numpy as np\n",
    "import math\n",
    "import matplotlib.pyplot as plt\n",
    "from sympy import symbols, Eq, solve\n",
    "\n",
    "from numpy.linalg import lstsq\n",
    "%matplotlib inline"
   ]
  },
  {
   "cell_type": "code",
   "execution_count": 16,
   "metadata": {},
   "outputs": [],
   "source": [
    "#define variables\n",
    "\n",
    "\n",
    "##declare parameters\n",
    "bbeta = 0.9\n",
    "kkappa = 0.75\n",
    "ggamma = 0.5\n",
    "pphi = 1.2\n",
    "rrho = 0.95\n",
    "ssigma = 0.6\n",
    "\n",
    "\n",
    "#define a and b and ybar as simple operators no specifications\n",
    "ybar = symbols('ybar')\n",
    "b = symbols('b')\n",
    "a = symbols('a')\n",
    "\n",
    "#set up matrix\n",
    "\n",
    "a11 = (kkappa*(b-1))/(1-(bbeta*rrho))\n",
    "a21 = (ggamma*a*(pphi-rrho))/(1-rrho)"
   ]
  },
  {
   "cell_type": "code",
   "execution_count": 20,
   "metadata": {},
   "outputs": [
    {
     "data": {
      "text/plain": [
       "[{a: 0.0}, {ybar: 0.0}]"
      ]
     },
     "execution_count": 20,
     "metadata": {},
     "output_type": "execute_result"
    }
   ],
   "source": [
    "#matrix\n",
    "\n",
    "m = np.array([[a11],\n",
    "              [a21]])\n",
    "m\n",
    "\n",
    "my1 = Eq(a11*ybar)\n",
    "my2 = Eq(a21*ybar)\n",
    "\n",
    "a = solve(my1)\n",
    "a\n",
    "b = solve(my2)\n",
    "b"
   ]
  }
 ],
 "metadata": {
  "kernelspec": {
   "display_name": "Python 3",
   "language": "python",
   "name": "python3"
  },
  "language_info": {
   "codemirror_mode": {
    "name": "ipython",
    "version": 3
   },
   "file_extension": ".py",
   "mimetype": "text/x-python",
   "name": "python",
   "nbconvert_exporter": "python",
   "pygments_lexer": "ipython3",
   "version": "3.7.4"
  }
 },
 "nbformat": 4,
 "nbformat_minor": 2
}
