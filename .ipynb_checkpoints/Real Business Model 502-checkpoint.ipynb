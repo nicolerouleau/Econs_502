{
 "cells": [
  {
   "cell_type": "code",
   "execution_count": 1,
   "metadata": {},
   "outputs": [],
   "source": [
    "import numpy as np\n",
    "import math\n",
    "import matplotlib.pyplot as plt\n",
    "\n",
    "from numpy.linalg import inv"
   ]
  },
  {
   "cell_type": "code",
   "execution_count": null,
   "metadata": {},
   "outputs": [],
   "source": [
    "#assign values to parameters\n",
    "aalpha = .39\n",
    "bbeta = .95\n",
    "ppsi = 1.25\n",
    "ddelta = .09\n",
    "rrho = .9"
   ]
  },
  {
   "cell_type": "code",
   "execution_count": null,
   "metadata": {},
   "outputs": [],
   "source": [
    "#steady state \n",
    "#equations from lecture notes\n",
    "\n",
    "laborSS = \n",
    "capitalSS =\n",
    "consumptionSS =\n",
    "\n",
    "print(\"Output = \", outputSS, \"Capital = \", capitalSS,\"Labor =\", laborSS)"
   ]
  },
  {
   "cell_type": "code",
   "execution_count": null,
   "metadata": {},
   "outputs": [],
   "source": [
    "#Log-linearized System of Equations\n",
    "#first 2 equation are for z and k\n",
    "#\n",
    "#all from lecture notes\n",
    "\n",
    "a11 = rrho\n",
    "a12 = 0\n",
    "a13 = 0\n",
    "\n",
    "a21 = \n",
    "a22 =\n",
    "a23 = \n",
    "\n",
    "a31 =\n",
    "a32 =\n",
    "a33 =\n",
    "\n",
    "#make a matrix A\n",
    "mA = np.array([[a11, a12, a13],\n",
    "              [a21, a22, a23],\n",
    "              [a31, a32, a33]])\n",
    "\n",
    "print(\"Matrix Log-linearized system = \", mA)"
   ]
  },
  {
   "cell_type": "code",
   "execution_count": null,
   "metadata": {},
   "outputs": [],
   "source": [
    "#Diagonlize matrix\n",
    "\n",
    "eigenvalues, eigenvectors = np.linalg.eig(mA)\n",
    "\n",
    "##must tell program to sort in the way you want, correct order\n",
    "##small to large, left to right\n",
    "idx = eigenvalues.agsort() ###define an index, argsort puts in ascending order\n",
    "print(\"index\", idx)\n",
    "eigenvalues = eigenvalues[idx] ###here we are reordering in the way we defined\n",
    "V = eigenvectors[:, idx]\n",
    "D = np.diag(eigenvalues)\n",
    "print(D)\n",
    "print(V)"
   ]
  },
  {
   "cell_type": "code",
   "execution_count": null,
   "metadata": {},
   "outputs": [],
   "source": [
    "#Define all the variables we need \n",
    "\n",
    "##Select submatrices of D and V\n",
    "D_1 = D[0:2,0:2]\n",
    "V_11 = V[0:2,0:2]\n",
    "V_21 = V[2:,0:2]\n",
    "\n",
    "##Coefficents of C as a function of X\n",
    "VC = V_21 @ inv(V_11) ###vector of coef in consumption function\n",
    "\n",
    "C_z = VC[0:1, 0:1]\n",
    "C_k =\n",
    "\n",
    "##Coefficients in solution of X\n",
    "VX = V_11 @ D_1 @ inv(V_11)\n",
    "\n",
    "\n",
    "\n",
    "#more here"
   ]
  },
  {
   "cell_type": "code",
   "execution_count": null,
   "metadata": {},
   "outputs": [],
   "source": [
    "#Generate transformed tech levels\n",
    "###percentage deviation from steady value\n",
    "##Generate shocks from N(0, sigma)\n",
    "\n",
    "mu, sigma = 0, 0.01\n",
    "et = np.random.normal(mu, sigma, 1000)\n",
    "\n",
    "###plot histogram to see it\n",
    "count, bins, ignored = plt.hist(et, 30, normed=True)\n",
    "plt.plot\n",
    "plt.show()\n",
    "\n",
    "\n",
    "index = range(1000)\n",
    "\n",
    "zt = np.zeros(len(index)) ###vector of zeros\n",
    "\n",
    "zt0 = 0 \n",
    "zt[0] = zt0 ###first element in vector is set to 0\n",
    "\n",
    "##loop where fill vector with this equation current = Z* previous + shock \n",
    "for n in index\n",
    "\n",
    "\n",
    "\n",
    "\n",
    "\n",
    "\n",
    "\n",
    "\n",
    "#Generate transformed levels\n",
    "\n",
    "\n",
    "kt = np.zeros(len(index))\n",
    "\n",
    "kt0 = 0\n",
    "\n",
    "#Generate transformed levels of consumption\n",
    "\n",
    "\n",
    "#Generate transformed levels of labor\n",
    "\n",
    "#Generate levels of tech\n",
    "\n",
    "#Generate levels of consumption\n",
    "\n",
    "#Generate levels of labor\n",
    "\n",
    "#Generate levels of output\n",
    "\n"
   ]
  },
  {
   "cell_type": "code",
   "execution_count": null,
   "metadata": {},
   "outputs": [],
   "source": [
    "#Generate cycle by applyign Hoddrick-Prescott filter\n",
    "### set lambda to 1600 because in US the calculation has already been done"
   ]
  }
 ],
 "metadata": {
  "kernelspec": {
   "display_name": "Python 3",
   "language": "python",
   "name": "python3"
  },
  "language_info": {
   "codemirror_mode": {
    "name": "ipython",
    "version": 3
   },
   "file_extension": ".py",
   "mimetype": "text/x-python",
   "name": "python",
   "nbconvert_exporter": "python",
   "pygments_lexer": "ipython3",
   "version": "3.7.4"
  }
 },
 "nbformat": 4,
 "nbformat_minor": 2
}
