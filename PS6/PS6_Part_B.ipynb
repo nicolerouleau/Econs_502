{
 "cells": [
  {
   "cell_type": "markdown",
   "metadata": {},
   "source": [
    "# PS6\n",
    "## Part B\n",
    "### Nicole Rouleau\n",
    "#### 4/15/21"
   ]
  },
  {
   "cell_type": "code",
   "execution_count": 1,
   "metadata": {},
   "outputs": [],
   "source": [
    "import numpy as np\n",
    "import matplotlib.pyplot as plt\n",
    "import pandas as pd\n",
    "from sklearn.preprocessing import StandardScaler\n",
    "\n",
    "%matplotlib inline"
   ]
  },
  {
   "cell_type": "code",
   "execution_count": 2,
   "metadata": {},
   "outputs": [
    {
     "data": {
      "text/html": [
       "<div>\n",
       "<style scoped>\n",
       "    .dataframe tbody tr th:only-of-type {\n",
       "        vertical-align: middle;\n",
       "    }\n",
       "\n",
       "    .dataframe tbody tr th {\n",
       "        vertical-align: top;\n",
       "    }\n",
       "\n",
       "    .dataframe thead th {\n",
       "        text-align: right;\n",
       "    }\n",
       "</style>\n",
       "<table border=\"1\" class=\"dataframe\">\n",
       "  <thead>\n",
       "    <tr style=\"text-align: right;\">\n",
       "      <th></th>\n",
       "      <th>DATE</th>\n",
       "      <th>PCENDC96</th>\n",
       "    </tr>\n",
       "  </thead>\n",
       "  <tbody>\n",
       "    <tr>\n",
       "      <td>0</td>\n",
       "      <td>2002-01-01</td>\n",
       "      <td>2147.4</td>\n",
       "    </tr>\n",
       "    <tr>\n",
       "      <td>1</td>\n",
       "      <td>2002-02-01</td>\n",
       "      <td>2148.9</td>\n",
       "    </tr>\n",
       "    <tr>\n",
       "      <td>2</td>\n",
       "      <td>2002-03-01</td>\n",
       "      <td>2148.3</td>\n",
       "    </tr>\n",
       "    <tr>\n",
       "      <td>3</td>\n",
       "      <td>2002-04-01</td>\n",
       "      <td>2141.5</td>\n",
       "    </tr>\n",
       "    <tr>\n",
       "      <td>4</td>\n",
       "      <td>2002-05-01</td>\n",
       "      <td>2143.8</td>\n",
       "    </tr>\n",
       "  </tbody>\n",
       "</table>\n",
       "</div>"
      ],
      "text/plain": [
       "         DATE  PCENDC96\n",
       "0  2002-01-01    2147.4\n",
       "1  2002-02-01    2148.9\n",
       "2  2002-03-01    2148.3\n",
       "3  2002-04-01    2141.5\n",
       "4  2002-05-01    2143.8"
      ]
     },
     "execution_count": 2,
     "metadata": {},
     "output_type": "execute_result"
    }
   ],
   "source": [
    "# uploading consumption data\n",
    "consumption = pd.read_csv(r\"/Users/Nicole/502/PS6/nondur_cons.csv\")\n",
    "consumption.head() ## check to make sure it works"
   ]
  },
  {
   "cell_type": "code",
   "execution_count": 3,
   "metadata": {},
   "outputs": [
    {
     "name": "stdout",
     "output_type": "stream",
     "text": [
      "Rows 215 and 216: \n",
      "            DATE  PCENDC96\n",
      "215  2019-12-01    3008.6\n",
      "           DATE  PCENDC96\n",
      "216  2020-01-01    3021.4 \n",
      "\n",
      "Dimensions of consumption:\n",
      " (230, 2) \n",
      "\n",
      "New Consumption Data Frame Head:\n",
      "          DATE  PCENDC96\n",
      "0  2002-01-01    2147.4\n",
      "1  2002-02-01    2148.9\n",
      "2  2002-03-01    2148.3\n",
      "3  2002-04-01    2141.5\n",
      "4  2002-05-01    2143.8 \n",
      "\n",
      "Dimensions of new consumption before edits:\n",
      " (230, 2) \n",
      "\n",
      "Dimensions of new consumption post edits:\n",
      " (216, 2) \n",
      "\n"
     ]
    }
   ],
   "source": [
    "# editing consumption data\n",
    "\n",
    "print(\"Rows 215 and 216: \\n\", consumption.loc[[215]])\n",
    "print(consumption.loc[[216]],'\\n') ## first 2020 row\n",
    "print(\"Dimensions of consumption:\\n\", consumption.shape, '\\n') ## rows go to 230\n",
    "## we need to get rid of rows 216-230\n",
    "\n",
    "new_consumpt = consumption.copy(deep = True)\n",
    "print(\"New Consumption Data Frame Head:\\n\",new_consumpt.head(),'\\n')\n",
    "print(\"Dimensions of new consumption before edits:\\n\", new_consumpt.shape, '\\n')\n",
    "new_consumpt.drop(new_consumpt.index[216:],0,inplace = True) ## drop 2020 data bc Covid\n",
    "print(\"Dimensions of new consumption post edits:\\n\",new_consumpt.shape, '\\n')\n"
   ]
  },
  {
   "cell_type": "code",
   "execution_count": 4,
   "metadata": {},
   "outputs": [
    {
     "data": {
      "text/plain": [
       "(120, 2)"
      ]
     },
     "execution_count": 4,
     "metadata": {},
     "output_type": "execute_result"
    }
   ],
   "source": [
    "# uploading rate data\n",
    "rate = pd.read_csv(r\"/Users/Nicole/502/PS6/rate_bonds.csv\")\n",
    "rate.head() ## check to make sure it works\n",
    "\n",
    "#uploading cpi data\n",
    "cpi = pd.read_csv(r\"/Users/Nicole/502/PS6/cpi.csv\") ##note: edited this mostly before upload\n",
    "cpi.shape"
   ]
  },
  {
   "cell_type": "code",
   "execution_count": 5,
   "metadata": {},
   "outputs": [
    {
     "name": "stdout",
     "output_type": "stream",
     "text": [
      "Rows 119 and 120: \n",
      "            DATE  TP30A28\n",
      "119  2008-03-01    1.806\n",
      "           DATE  TP30A28\n",
      "120  2008-04-01    1.953 \n",
      "\n",
      "Dimensions of rate:\n",
      " (268, 2) \n",
      "\n",
      "New Rate Data Frame Head:\n",
      "          DATE  TP30A28\n",
      "0  1998-04-01    3.686\n",
      "1  1998-05-01    3.665\n",
      "2  1998-06-01    3.657\n",
      "3  1998-07-01    3.684\n",
      "4  1998-08-01    3.724 \n",
      "\n",
      "Dimensions of new rate before edits:\n",
      " (268, 2) \n",
      "\n",
      "Dimensions of new rate post edits:\n",
      " (120, 2) \n",
      "\n",
      "real rate:\n",
      " 0     19.928973\n",
      "1     19.852083\n",
      "2     29.767980\n",
      "3     30.024600\n",
      "4     30.387840\n",
      "5     30.253510\n",
      "6     14.867150\n",
      "7      0.000000\n",
      "8    -61.172000\n",
      "9     15.295967\n",
      "10    30.428360\n",
      "11    12.600700\n",
      "12     5.321250\n",
      "13     0.000000\n",
      "14     0.000000\n",
      "dtype: float64 \n",
      "\n"
     ]
    },
    {
     "data": {
      "text/plain": [
       "6.5488329338078195"
      ]
     },
     "execution_count": 5,
     "metadata": {},
     "output_type": "execute_result"
    }
   ],
   "source": [
    "# editing rate data\n",
    "## we only want the first 10 years, 1998-2008\n",
    "## data starts on 4/1/98, so we will go to 3/1/08 since all monthly\n",
    "\n",
    "print(\"Rows 119 and 120: \\n\", rate.loc[[119]])\n",
    "print(rate.loc[[120]],'\\n') ## 4/01/08 row\n",
    "print(\"Dimensions of rate:\\n\", rate.shape, '\\n') ## rows go to 268\n",
    "## we need to get rid of rows 120-268\n",
    "\n",
    "new_rate = rate.copy(deep = True)\n",
    "print(\"New Rate Data Frame Head:\\n\",new_rate.head(),'\\n')\n",
    "print(\"Dimensions of new rate before edits:\\n\", new_rate.shape, '\\n')\n",
    "new_rate.drop(new_rate.index[120:],0,inplace = True)\n",
    "## drop past 4/1/08 bc recession, only need/want 10 yr per\n",
    "print(\"Dimensions of new rate post edits:\\n\",new_rate.shape, '\\n')\n",
    "\n",
    "##made rate data 'real'\n",
    "real_rate = new_rate['TP30A28']/cpi['CPALTT01USM657N']\n",
    "real_rate = real_rate.replace([np.inf, -np.inf], 0)\n",
    "print(\"real rate:\\n\", real_rate.head(15),'\\n')\n",
    "\n",
    "##need constant real rate so:\n",
    "rr = (sum(real_rate))/120\n",
    "rr"
   ]
  },
  {
   "cell_type": "code",
   "execution_count": 6,
   "metadata": {},
   "outputs": [
    {
     "data": {
      "text/html": [
       "<div>\n",
       "<style scoped>\n",
       "    .dataframe tbody tr th:only-of-type {\n",
       "        vertical-align: middle;\n",
       "    }\n",
       "\n",
       "    .dataframe tbody tr th {\n",
       "        vertical-align: top;\n",
       "    }\n",
       "\n",
       "    .dataframe thead th {\n",
       "        text-align: right;\n",
       "    }\n",
       "</style>\n",
       "<table border=\"1\" class=\"dataframe\">\n",
       "  <thead>\n",
       "    <tr style=\"text-align: right;\">\n",
       "      <th></th>\n",
       "      <th>DATE</th>\n",
       "      <th>PCENDC96</th>\n",
       "      <th>rct</th>\n",
       "    </tr>\n",
       "  </thead>\n",
       "  <tbody>\n",
       "    <tr>\n",
       "      <td>0</td>\n",
       "      <td>2002-01-01</td>\n",
       "      <td>2147.4</td>\n",
       "      <td>14062.963842</td>\n",
       "    </tr>\n",
       "    <tr>\n",
       "      <td>1</td>\n",
       "      <td>2002-02-01</td>\n",
       "      <td>2148.9</td>\n",
       "      <td>14072.787091</td>\n",
       "    </tr>\n",
       "    <tr>\n",
       "      <td>2</td>\n",
       "      <td>2002-03-01</td>\n",
       "      <td>2148.3</td>\n",
       "      <td>14068.857792</td>\n",
       "    </tr>\n",
       "    <tr>\n",
       "      <td>3</td>\n",
       "      <td>2002-04-01</td>\n",
       "      <td>2141.5</td>\n",
       "      <td>14024.325728</td>\n",
       "    </tr>\n",
       "    <tr>\n",
       "      <td>4</td>\n",
       "      <td>2002-05-01</td>\n",
       "      <td>2143.8</td>\n",
       "      <td>14039.388043</td>\n",
       "    </tr>\n",
       "  </tbody>\n",
       "</table>\n",
       "</div>"
      ],
      "text/plain": [
       "         DATE  PCENDC96           rct\n",
       "0  2002-01-01    2147.4  14062.963842\n",
       "1  2002-02-01    2148.9  14072.787091\n",
       "2  2002-03-01    2148.3  14068.857792\n",
       "3  2002-04-01    2141.5  14024.325728\n",
       "4  2002-05-01    2143.8  14039.388043"
      ]
     },
     "execution_count": 6,
     "metadata": {},
     "output_type": "execute_result"
    }
   ],
   "source": [
    "#add rr to consumpt\n",
    "r_ct = np.array(rr*new_consumpt['PCENDC96'])\n",
    "new_consumpt['rct'] = pd.Series(r_ct, index=new_consumpt.index)\n",
    "new_consumpt.head()"
   ]
  },
  {
   "cell_type": "code",
   "execution_count": 7,
   "metadata": {},
   "outputs": [
    {
     "name": "stdout",
     "output_type": "stream",
     "text": [
      "AxesSubplot(0.125,0.125;0.775x0.755)\n",
      "ADF Test Statistic : -0.3249991374610413\n",
      "p-value : 0.9218883223195489\n",
      "#Lags Used : 9\n",
      "Number of Observations Used : 206\n",
      "time series is non-stationary \n",
      "\n",
      "\n",
      "ADF Test Statistic : -0.32499913746104225\n",
      "p-value : 0.9218883223195488\n",
      "#Lags Used : 9\n",
      "Number of Observations Used : 206\n",
      "time series is non-stationary \n"
     ]
    },
    {
     "data": {
      "image/png": "[encoded data removed]",
      "text/plain": [
       "<Figure size 432x288 with 1 Axes>"
      ]
     },
     "metadata": {
      "needs_background": "light"
     },
     "output_type": "display_data"
    }
   ],
   "source": [
    "#We need data to be stationary in time series\n",
    "print(new_consumpt.plot()) ##appears non-stationary\n",
    "\n",
    "##let's test if stationary using this model\n",
    "### if pvalue<.05, reject null hypothesis that time series is non-stationary\n",
    "from statsmodels.tsa.stattools import adfuller\n",
    "def adfuller_test(df):\n",
    "    result=adfuller(df)\n",
    "    labels = ['ADF Test Statistic','p-value','#Lags Used','Number of Observations Used']\n",
    "    for value,label in zip(result,labels):\n",
    "        print(label+' : '+str(value) )\n",
    "    if result[1] <= 0.05:\n",
    "        print(\"time series is stationary\")\n",
    "    else:\n",
    "        print(\"time series is non-stationary \")\n",
    "        \n",
    "#let's run test\n",
    "adfuller_test(new_consumpt['PCENDC96'])##as we thought, it is non-stationary\n",
    "print('\\n')\n",
    "adfuller_test(new_consumpt['rct'])  #also non-stationary"
   ]
  },
  {
   "cell_type": "code",
   "execution_count": 8,
   "metadata": {},
   "outputs": [
    {
     "name": "stdout",
     "output_type": "stream",
     "text": [
      "         DATE  PCENDC96           rct  First_Consumpt_Diff  \\\n",
      "0  2002-01-01    2147.4  14062.963842                  NaN   \n",
      "1  2002-02-01    2148.9  14072.787091                  1.5   \n",
      "2  2002-03-01    2148.3  14068.857792                 -0.6   \n",
      "3  2002-04-01    2141.5  14024.325728                 -6.8   \n",
      "4  2002-05-01    2143.8  14039.388043                  2.3   \n",
      "\n",
      "   First_Rate_Consumpt_Diff  \n",
      "0                       NaN  \n",
      "1                  9.823249  \n",
      "2                 -3.929300  \n",
      "3                -44.532064  \n",
      "4                 15.062316   \n",
      "\n",
      "Updated:\n",
      "          DATE  PCENDC96           rct  First_Consumpt_Diff  \\\n",
      "0  2002-01-01    2147.4  14062.963842                  0.0   \n",
      "1  2002-02-01    2148.9  14072.787091                  1.5   \n",
      "2  2002-03-01    2148.3  14068.857792                 -0.6   \n",
      "3  2002-04-01    2141.5  14024.325728                 -6.8   \n",
      "4  2002-05-01    2143.8  14039.388043                  2.3   \n",
      "\n",
      "   First_Rate_Consumpt_Diff  \n",
      "0                  0.000000  \n",
      "1                  9.823249  \n",
      "2                 -3.929300  \n",
      "3                -44.532064  \n",
      "4                 15.062316   \n",
      "\n",
      "ADF Test Statistic : -3.1358289753397597\n",
      "p-value : 0.024012822330984934\n",
      "#Lags Used : 8\n",
      "Number of Observations Used : 207\n",
      "time series is stationary\n",
      "\n",
      "\n",
      "ADF Test Statistic : -3.1358289753397677\n",
      "p-value : 0.024012822330984385\n",
      "#Lags Used : 8\n",
      "Number of Observations Used : 207\n",
      "time series is stationary\n"
     ]
    }
   ],
   "source": [
    "# Must make data stationary\n",
    "\n",
    "##take difference from first observation to previous observation\n",
    "new_consumpt['First_Consumpt_Diff'] = new_consumpt.PCENDC96.diff()\n",
    "\n",
    "new_consumpt['First_Rate_Consumpt_Diff'] = new_consumpt.rct.diff()\n",
    "\n",
    "print(new_consumpt.head(),'\\n')\n",
    "\n",
    "##fill in nan\n",
    "new_consumpt = new_consumpt.fillna(0)\n",
    "print(\"Updated:\\n\",new_consumpt.head(),'\\n')\n",
    "\n",
    "##recheck the adfuller test (using differences)\n",
    "adfuller_test(new_consumpt['First_Consumpt_Diff']) ##now stationary\n",
    "print('\\n')\n",
    "adfuller_test(new_consumpt['First_Rate_Consumpt_Diff']) ##now stationary"
   ]
  },
  {
   "cell_type": "code",
   "execution_count": 9,
   "metadata": {},
   "outputs": [
    {
     "data": {
      "text/plain": [
       "[<matplotlib.lines.Line2D at 0x7fc74a98c9d0>]"
      ]
     },
     "execution_count": 9,
     "metadata": {},
     "output_type": "execute_result"
    },
    {
     "data": {
      "image/png": "[encoded data removed]",
      "text/plain": [
       "<Figure size 432x288 with 1 Axes>"
      ]
     },
     "metadata": {
      "needs_background": "light"
     },
     "output_type": "display_data"
    }
   ],
   "source": [
    "##plot of new consumption data\n",
    "plt.plot(new_consumpt.PCENDC96.diff())"
   ]
  },
  {
   "cell_type": "code",
   "execution_count": 10,
   "metadata": {},
   "outputs": [
    {
     "data": {
      "text/plain": [
       "[<matplotlib.lines.Line2D at 0x7fc74bbffd90>]"
      ]
     },
     "execution_count": 10,
     "metadata": {},
     "output_type": "execute_result"
    },
    {
     "data": {
      "image/png": "[encoded data removed]",
      "text/plain": [
       "<Figure size 432x288 with 1 Axes>"
      ]
     },
     "metadata": {
      "needs_background": "light"
     },
     "output_type": "display_data"
    }
   ],
   "source": [
    "##plot of new consumption data for rate with consumption\n",
    "plt.plot(new_consumpt.rct.diff())"
   ]
  },
  {
   "cell_type": "code",
   "execution_count": 11,
   "metadata": {},
   "outputs": [
    {
     "data": {
      "image/png": "[encoded data removed]",
      "text/plain": [
       "<Figure size 600x360 with 1 Axes>"
      ]
     },
     "metadata": {
      "needs_background": "light"
     },
     "output_type": "display_data"
    },
    {
     "data": {
      "image/png": "[encoded data removed]",
      "text/plain": [
       "<Figure size 600x360 with 1 Axes>"
      ]
     },
     "metadata": {
      "needs_background": "light"
     },
     "output_type": "display_data"
    }
   ],
   "source": [
    "# We will use AR for analysis, must determine number lags \n",
    "## use partial autocorrelation to determine lag number \n",
    "\n",
    "plt.rcParams.update({'figure.figsize':(5,3), 'figure.dpi':120})\n",
    "\n",
    "\n",
    "from statsmodels.graphics.tsaplots import plot_pacf\n",
    "plot_pacf(new_consumpt.PCENDC96,lags=15); # we can see there is mostly correlation between the 1st and 2nd lag and not much between the 2nd and 3rd so we only need to use the 1st lag\n",
    "plot_pacf(new_consumpt.rct,lags=15); #same as above\n"
   ]
  },
  {
   "cell_type": "code",
   "execution_count": 12,
   "metadata": {},
   "outputs": [
    {
     "data": {
      "text/html": [
       "<div>\n",
       "<style scoped>\n",
       "    .dataframe tbody tr th:only-of-type {\n",
       "        vertical-align: middle;\n",
       "    }\n",
       "\n",
       "    .dataframe tbody tr th {\n",
       "        vertical-align: top;\n",
       "    }\n",
       "\n",
       "    .dataframe thead th {\n",
       "        text-align: right;\n",
       "    }\n",
       "</style>\n",
       "<table border=\"1\" class=\"dataframe\">\n",
       "  <thead>\n",
       "    <tr style=\"text-align: right;\">\n",
       "      <th></th>\n",
       "      <th>PCENDC96</th>\n",
       "      <th>rct</th>\n",
       "      <th>First_Consumpt_Diff</th>\n",
       "      <th>First_Rate_Consumpt_Diff</th>\n",
       "    </tr>\n",
       "  </thead>\n",
       "  <tbody>\n",
       "    <tr>\n",
       "      <td>0</td>\n",
       "      <td>2147.4</td>\n",
       "      <td>14062.963842</td>\n",
       "      <td>0.0</td>\n",
       "      <td>0.000000</td>\n",
       "    </tr>\n",
       "    <tr>\n",
       "      <td>1</td>\n",
       "      <td>2148.9</td>\n",
       "      <td>14072.787091</td>\n",
       "      <td>1.5</td>\n",
       "      <td>9.823249</td>\n",
       "    </tr>\n",
       "    <tr>\n",
       "      <td>2</td>\n",
       "      <td>2148.3</td>\n",
       "      <td>14068.857792</td>\n",
       "      <td>-0.6</td>\n",
       "      <td>-3.929300</td>\n",
       "    </tr>\n",
       "    <tr>\n",
       "      <td>3</td>\n",
       "      <td>2141.5</td>\n",
       "      <td>14024.325728</td>\n",
       "      <td>-6.8</td>\n",
       "      <td>-44.532064</td>\n",
       "    </tr>\n",
       "    <tr>\n",
       "      <td>4</td>\n",
       "      <td>2143.8</td>\n",
       "      <td>14039.388043</td>\n",
       "      <td>2.3</td>\n",
       "      <td>15.062316</td>\n",
       "    </tr>\n",
       "  </tbody>\n",
       "</table>\n",
       "</div>"
      ],
      "text/plain": [
       "   PCENDC96           rct  First_Consumpt_Diff  First_Rate_Consumpt_Diff\n",
       "0    2147.4  14062.963842                  0.0                  0.000000\n",
       "1    2148.9  14072.787091                  1.5                  9.823249\n",
       "2    2148.3  14068.857792                 -0.6                 -3.929300\n",
       "3    2141.5  14024.325728                 -6.8                -44.532064\n",
       "4    2143.8  14039.388043                  2.3                 15.062316"
      ]
     },
     "execution_count": 12,
     "metadata": {},
     "output_type": "execute_result"
    }
   ],
   "source": [
    "#prep data for AR\n",
    "new_consumpt.dtypes\n",
    "#remove DATE bc object\n",
    "new_consumpt.drop(['DATE'], axis = 1, inplace = True)\n",
    "new_consumpt.head()"
   ]
  },
  {
   "cell_type": "code",
   "execution_count": 13,
   "metadata": {},
   "outputs": [
    {
     "name": "stderr",
     "output_type": "stream",
     "text": [
      "/Applications/anaconda3/lib/python3.7/site-packages/statsmodels/base/wrapper.py:35: FutureWarning: y is a deprecated alias for endog, will be removed in version 0.11.0\n",
      "  obj = getattr(results, attr)\n"
     ]
    }
   ],
   "source": [
    "#AR\n",
    "#(c_t+1) = b0 + b1(c_t) + b2(c_t)*(r)\n",
    "\n",
    "\n",
    "##train/test \n",
    "train = new_consumpt[:int(0.8*(len(new_consumpt)))] #.int makes things integers, len gets length of array\n",
    "valid = new_consumpt[int(0.8*(len(new_consumpt))):] #.8 for 80% split train 20% valiation\n",
    "\n",
    "#fit the model\n",
    "from statsmodels.tsa.vector_ar.var_model import VAR \n",
    "#var is good for multivariate ar (we have r*ct so multivariate, although not sure how to fit this in model)\n",
    "\n",
    "model = VAR(endog=train)\n",
    "model_fit = model.fit()\n",
    "\n",
    "# make prediction on validation\n",
    "prediction = model_fit.forecast(model_fit.y, steps=len(valid))\n"
   ]
  },
  {
   "cell_type": "code",
   "execution_count": 14,
   "metadata": {},
   "outputs": [
    {
     "name": "stdout",
     "output_type": "stream",
     "text": [
      "[[3.01848681e+03 1.97675659e+04 9.88681295e+00 6.47470862e+01]]\n"
     ]
    }
   ],
   "source": [
    "#make final predictions\n",
    "model = VAR(endog=new_consumpt)\n",
    "model_fit = model.fit(4)\n",
    "yhat = model_fit.forecast(model_fit.y, steps=1)\n",
    "\n",
    "print(yhat) #each number corresponding in order to the column"
   ]
  },
  {
   "cell_type": "code",
   "execution_count": null,
   "metadata": {},
   "outputs": [],
   "source": []
  }
 ],
 "metadata": {
  "kernelspec": {
   "display_name": "Python 3",
   "language": "python",
   "name": "python3"
  },
  "language_info": {
   "codemirror_mode": {
    "name": "ipython",
    "version": 3
   },
   "file_extension": ".py",
   "mimetype": "text/x-python",
   "name": "python",
   "nbconvert_exporter": "python",
   "pygments_lexer": "ipython3",
   "version": "3.7.4"
  }
 },
 "nbformat": 4,
 "nbformat_minor": 2
}
